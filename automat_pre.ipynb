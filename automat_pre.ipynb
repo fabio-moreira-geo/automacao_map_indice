{
  "cells": [
    {
      "cell_type": "code",
      "execution_count": 1,
      "metadata": {
        "id": "-_XRV_iFautF"
      },
      "outputs": [],
      "source": [
        "# Importar Bibliotecas\n",
        "import geopandas as gpd\n",
        "import matplotlib.pyplot as plt\n",
        "from shapely.geometry import Point, LineString, Polygon\n",
        "import fiona\n",
        "import rtree"
      ]
    },
    {
      "cell_type": "markdown",
      "metadata": {
        "id": "2qAtcYH1autL"
      },
      "source": [
        "# Município e Envelope"
      ]
    },
    {
      "cell_type": "code",
      "execution_count": null,
      "metadata": {
        "id": "ic5WhMbJautM"
      },
      "outputs": [],
      "source": [
        "# Importar e ler shapefile de município\n",
        "shapefile= r'BR_Municipios_2021\\BR_Municipios_2021.shp'\n",
        "\n",
        "# Ler\n",
        "mun_br = gpd.read_file(shapefile)\n",
        "\n",
        "# Nome do município\n",
        "nome = 'Piracicaba'\n",
        "\n",
        "# Filtrar pelo nome do Município\n",
        "mun = mun_br[mun_br.NM_MUN==f'{nome}']"
      ]
    },
    {
      "cell_type": "code",
      "execution_count": null,
      "metadata": {
        "id": "_mQqzjpuautN"
      },
      "outputs": [],
      "source": [
        "# Salvar shapefile do município na pasta selecionada\n",
        "out=r'Shapefiles/municipio_sp.shp'\n",
        "mun.to_file(out)\n"
      ]
    },
    {
      "cell_type": "code",
      "execution_count": null,
      "metadata": {
        "colab": {
          "base_uri": "https://localhost:8080/",
          "height": 444
        },
        "id": "JJc0ztJUautN",
        "outputId": "745b1467-52de-4502-b0e2-1b2d365cde85"
      },
      "outputs": [],
      "source": [
        "# Visualizar shape\n",
        "fig,eixo=plt.subplots(figsize=(10,10))\n",
        "mun.plot(ax=eixo, color='red')"
      ]
    },
    {
      "cell_type": "code",
      "execution_count": null,
      "metadata": {
        "id": "0GOX8Bx9autN"
      },
      "outputs": [],
      "source": [
        "# Extrair envelope\n",
        "env = mun.envelope\n",
        "bbox = mun.bounds\n",
        "ly = float(bbox['maxy'] - bbox['miny'])\n",
        "lx = float(bbox['maxx'] - bbox['minx'])\n",
        "\n",
        "# Verificar se largura é maior que altura\n",
        "    # Se sim, rotacionar 90° e escalar\n",
        "if ly>lx:\n",
        "    env90 = env.rotate(90)\n",
        "    env = env90.scale(2.5,2)\n",
        "else:\n",
        "    env = env.scale(2.5,2)\n",
        "\n",
        "    # Se não, aumentar escala em X e Y"
      ]
    },
    {
      "cell_type": "code",
      "execution_count": null,
      "metadata": {
        "colab": {
          "base_uri": "https://localhost:8080/",
          "height": 145
        },
        "id": "eqZeyBD1autO",
        "outputId": "c4611606-59da-41bc-85c9-4051070cd1ed"
      },
      "outputs": [],
      "source": [
        "# Adicionar cabeçalho e transformar em df\n",
        "envelope=gpd.GeoDataFrame()\n",
        "envelope['geometry']=env\n",
        "envelope.head()"
      ]
    },
    {
      "cell_type": "markdown",
      "metadata": {
        "id": "A7_Ejm-WautO"
      },
      "source": [
        "# Processamento das Camadas"
      ]
    },
    {
      "cell_type": "code",
      "execution_count": null,
      "metadata": {
        "id": "ljLr1Hv3autO"
      },
      "outputs": [],
      "source": [
        "# Importar shapefile das camadas\n",
        "g=r'shapefiles/brasil_geologico_integrado.shp'\n",
        "h=r'shapefiles/hidrogeologia_Brasil.shp'\n",
        "p=r'shapefiles/Solos_5000.shp'\n",
        "gm=r'shapefiles/geom_area.shp'"
      ]
    },
    {
      "cell_type": "code",
      "execution_count": null,
      "metadata": {
        "id": "95sfAqO1autP"
      },
      "outputs": [],
      "source": [
        "# Ler camadas\n",
        "geo=gpd.read_file(g)\n",
        "hidro=gpd.read_file(h)\n",
        "pedo=gpd.read_file(p)\n",
        "geom=gpd.read_file(gm)"
      ]
    },
    {
      "cell_type": "code",
      "execution_count": null,
      "metadata": {
        "colab": {
          "base_uri": "https://localhost:8080/"
        },
        "id": "8bjH47ZyautP",
        "outputId": "d99cdc6d-d67b-4fcc-a3ab-576b55162a5f"
      },
      "outputs": [],
      "source": [
        "# Verificar crs das camadas\n",
        "geo.crs"
      ]
    },
    {
      "cell_type": "code",
      "execution_count": null,
      "metadata": {
        "colab": {
          "base_uri": "https://localhost:8080/"
        },
        "id": "7v8iobQFautP",
        "outputId": "2ae15da9-67b7-497b-8ba3-694f44e89d8e"
      },
      "outputs": [],
      "source": [
        "# Reprojetar camadas\n",
        "geo=geo.to_crs(epsg=4674)\n",
        "hidro=hidro.to_crs(epsg=4674)\n",
        "geom=geom.to_crs(epsg=4674)\n",
        "pedo=pedo.to_crs(epsg=4674)\n",
        "env=env.to_crs(epsg=4674)"
      ]
    },
    {
      "cell_type": "code",
      "execution_count": null,
      "metadata": {
        "colab": {
          "base_uri": "https://localhost:8080/",
          "height": 602
        },
        "id": "_DAk2WjTautP",
        "outputId": "3117c4e7-ca3b-4eec-cf6b-f1c14e1d23ff"
      },
      "outputs": [],
      "source": [
        "\n",
        "# Verificar se os shapes estão no mapa\n",
        "fig,eixo=plt.subplots(figsize=(10,10))\n",
        "geom.plot(ax=eixo, color='green')\n",
        "env.plot(ax=eixo)\n",
        "mun.plot(ax=eixo, color='red')"
      ]
    },
    {
      "cell_type": "code",
      "execution_count": null,
      "metadata": {},
      "outputs": [],
      "source": [
        "# Clipando as camadas\n",
        "geo_clip = geo.clip(env)\n",
        "hidro_clip = hidro.clip(env)\n",
        "pedo_clip = pedo.clip(env)\n",
        "geom_clip = geom.clip(env)"
      ]
    },
    {
      "cell_type": "code",
      "execution_count": null,
      "metadata": {
        "id": "6KGa00W_autQ"
      },
      "outputs": [],
      "source": [
        "# Clipar as camadas\n",
        "geo_clip.to_crs(epsg=31983, inplace=True)\n",
        "hidro_clip.to_crs(epsg=31983, inplace=True)\n",
        "pedo_clip.to_crs(epsg=31983, inplace=True)\n",
        "geom_clip.to_crs(epsg=31983, inplace=True)"
      ]
    },
    {
      "cell_type": "code",
      "execution_count": null,
      "metadata": {
        "id": "8NlQ6O9OautQ"
      },
      "outputs": [],
      "source": [
        "# Exportar as camadas na pasta do projeto\n",
        "geo_clip.to_file(f'geologia_{nome}.shp')\n",
        "hidro_clip.to_file(f'hidrogeo_{nome}.shp')\n",
        "pedo_clip.to_file(f'pedologia_{nome}.shp')\n",
        "geom_clip.to_file(f'geomorfo_{nome}.shp')"
      ]
    }
  ],
  "metadata": {
    "colab": {
      "provenance": []
    },
    "kernelspec": {
      "display_name": "geo",
      "language": "python",
      "name": "python3"
    },
    "language_info": {
      "codemirror_mode": {
        "name": "ipython",
        "version": 3
      },
      "file_extension": ".py",
      "mimetype": "text/x-python",
      "name": "python",
      "nbconvert_exporter": "python",
      "pygments_lexer": "ipython3",
      "version": "3.9.15"
    },
    "orig_nbformat": 4,
    "vscode": {
      "interpreter": {
        "hash": "f42526d445d32d6479fd74f20a64122c3411fe39089a88c81a170d1a242c492c"
      }
    }
  },
  "nbformat": 4,
  "nbformat_minor": 0
}
